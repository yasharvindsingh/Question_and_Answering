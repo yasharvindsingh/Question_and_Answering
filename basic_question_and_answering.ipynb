{
 "cells": [
  {
   "cell_type": "code",
   "execution_count": 19,
   "metadata": {},
   "outputs": [],
   "source": [
    "%matplotlib inline\n",
    "import keras\n",
    "from keras.preprocessing.sequence import pad_sequences\n",
    "from keras.models import Sequential, Model\n",
    "from keras.layers.embeddings import Embedding\n",
    "from keras.layers import Dropout, Input, Activation, Dense, dot, concatenate\n",
    "from keras.layers import LSTM\n",
    "import os\n",
    "import numpy as np\n",
    "import pandas as pd\n",
    "import re\n",
    "import IPython\n",
    "import matplotlib.pyplot as plt"
   ]
  },
  {
   "cell_type": "code",
   "execution_count": 2,
   "metadata": {
    "collapsed": true
   },
   "outputs": [],
   "source": [
    "TRAIN_PATH = './babi_tasks/en-10k/qa1_single-supporting-fact_train.txt'\n",
    "TEST_PATH = './babi_tasks/en-10k/qa1_single-supporting-fact_test.txt'\n",
    "train_epochs = 100\n",
    "batch_size = 32\n",
    "lstm_units = 64"
   ]
  },
  {
   "cell_type": "code",
   "execution_count": 3,
   "metadata": {
    "collapsed": true
   },
   "outputs": [],
   "source": [
    "def tokenize(sent):\n",
    "    return [ x.strip() for x in re.split('(\\W+)?', sent) if x.strip()]"
   ]
  },
  {
   "cell_type": "code",
   "execution_count": 155,
   "metadata": {},
   "outputs": [],
   "source": [
    "def parse_stories(lines):\n",
    "    \n",
    "    story=[]\n",
    "    data = []\n",
    "    for line in lines:\n",
    "        nid,line = line.split(\" \",1)\n",
    "        nid = int(nid)\n",
    "        if nid == 1:\n",
    "            story = []\n",
    "            \n",
    "        if '\\t' in line:\n",
    "            q,a,support = line.split('\\t')\n",
    "            substory = None\n",
    "            q = tokenize(q)\n",
    "#             support = map(int, support.split())\n",
    "#             substory = [story[i] for i in story]\n",
    "#             story = list(np.array(story).T.tolist())\n",
    "            story = np.array(story).T.tolist()\n",
    "            \n",
    "            data.append((story,q,a))\n",
    "            \n",
    "        else:\n",
    "            sent = tokenize(line)\n",
    "#             for i in sent:\n",
    "            story+=sent\n",
    "            \n",
    "    return data"
   ]
  },
  {
   "cell_type": "code",
   "execution_count": 156,
   "metadata": {
    "collapsed": true
   },
   "outputs": [],
   "source": [
    "def vectorize(data, word_idx, story_maxlen, ques_maxlen):\n",
    "    vec_story = []\n",
    "    vec_ques = []\n",
    "    vec_ans = []\n",
    "    \n",
    "    for story, ques, ans in data:\n",
    "        st = []\n",
    "        q = []\n",
    "        \n",
    "        for i in story:\n",
    "            st.append(word_idx[i])\n",
    "        \n",
    "        for i in ques:\n",
    "            q.append(word_idx[i])\n",
    "            \n",
    "        a =  np.zeros(len(word_idx))\n",
    "        a[word_idx[ans]] = 1\n",
    "        \n",
    "        vec_story.append(st)\n",
    "        vec_ques.append(q)\n",
    "        vec_ans.append(a)\n",
    "        \n",
    "    return (pad_sequences(vec_story, maxlen = story_maxlen), pad_sequences(vec_ques, maxlen = ques_maxlen), np.array(vec_ans))"
   ]
  },
  {
   "cell_type": "code",
   "execution_count": 189,
   "metadata": {},
   "outputs": [
    {
     "name": "stderr",
     "output_type": "stream",
     "text": [
      "/usr/lib/python3.5/re.py:203: FutureWarning: split() requires a non-empty pattern match.\n",
      "  return _compile(pattern, flags).split(string, maxsplit)\n"
     ]
    }
   ],
   "source": [
    "train = parse_stories(open(TRAIN_PATH, 'r'))"
   ]
  },
  {
   "cell_type": "code",
   "execution_count": 190,
   "metadata": {},
   "outputs": [
    {
     "name": "stderr",
     "output_type": "stream",
     "text": [
      "/usr/lib/python3.5/re.py:203: FutureWarning: split() requires a non-empty pattern match.\n",
      "  return _compile(pattern, flags).split(string, maxsplit)\n"
     ]
    }
   ],
   "source": [
    "test = parse_stories(open(TEST_PATH, 'r'))"
   ]
  },
  {
   "cell_type": "code",
   "execution_count": 159,
   "metadata": {
    "collapsed": true
   },
   "outputs": [],
   "source": [
    "vocab = set()\n",
    "\n",
    "for st, q, a in train+test:\n",
    "    for i in st+q+[a]:\n",
    "        vocab.add(i)\n",
    "vocab = sorted(vocab)"
   ]
  },
  {
   "cell_type": "code",
   "execution_count": 160,
   "metadata": {
    "collapsed": true
   },
   "outputs": [],
   "source": [
    "vocab_size = len(vocab)"
   ]
  },
  {
   "cell_type": "code",
   "execution_count": 161,
   "metadata": {},
   "outputs": [
    {
     "data": {
      "text/plain": [
       "{'.': 0,\n",
       " '?': 1,\n",
       " 'Daniel': 2,\n",
       " 'John': 3,\n",
       " 'Mary': 4,\n",
       " 'Sandra': 5,\n",
       " 'Where': 6,\n",
       " 'back': 7,\n",
       " 'bathroom': 8,\n",
       " 'bedroom': 9,\n",
       " 'garden': 10,\n",
       " 'hallway': 11,\n",
       " 'is': 12,\n",
       " 'journeyed': 13,\n",
       " 'kitchen': 14,\n",
       " 'moved': 15,\n",
       " 'office': 16,\n",
       " 'the': 17,\n",
       " 'to': 18,\n",
       " 'travelled': 19,\n",
       " 'went': 20}"
      ]
     },
     "execution_count": 161,
     "metadata": {},
     "output_type": "execute_result"
    }
   ],
   "source": [
    "word_idx = {vocab[i]:i for i in range(len(vocab))}\n",
    "idx_word = {i:vocab[i] for i in range(len(vocab))}\n",
    "\n",
    "word_idx"
   ]
  },
  {
   "cell_type": "code",
   "execution_count": 162,
   "metadata": {},
   "outputs": [
    {
     "name": "stdout",
     "output_type": "stream",
     "text": [
      "68 4\n"
     ]
    }
   ],
   "source": [
    "story_maxlen =max(map(len, (x for x,_,_ in train + test)))\n",
    "ques_maxlen =max(map(len, (x for _,x,_ in train + test)))\n",
    "print(story_maxlen, ques_maxlen)"
   ]
  },
  {
   "cell_type": "code",
   "execution_count": 163,
   "metadata": {},
   "outputs": [
    {
     "name": "stdout",
     "output_type": "stream",
     "text": [
      "[ 0  0  0  0  0  0  0  0  0  0  0  0  0  0  0  0  0  0  0  0  0  0  0  0\n",
      "  0  0  0  0  0  0  0  0  0  0  0  0  0  0  0  0  0  0  0  4 15 18 17  8\n",
      "  0  3 20 18 17 11  0  2 20  7 18 17 11  0  5 15 18 17 10  0] [ 6 12  4  1] [0. 0. 0. 0. 0. 0. 0. 0. 1. 0. 0. 0. 0. 0. 0. 0. 0. 0. 0. 0. 0.]\n"
     ]
    }
   ],
   "source": [
    "train_sent, train_ques, train_ans = vectorize(train, word_idx, story_maxlen, ques_maxlen)\n",
    "print(train_sent[0],  train_ques[0], train_ans[0])"
   ]
  },
  {
   "cell_type": "code",
   "execution_count": 191,
   "metadata": {},
   "outputs": [],
   "source": [
    "test_sent, test_ques, test_ans = vectorize(test, word_idx, story_maxlen, ques_maxlen)"
   ]
  },
  {
   "cell_type": "code",
   "execution_count": 192,
   "metadata": {},
   "outputs": [
    {
     "name": "stdout",
     "output_type": "stream",
     "text": [
      "shape of train stories: (10000, 68)\n",
      "shape of train ques: (10000, 4)\n",
      "shape of train answers: (10000, 21)\n",
      "\n",
      "shape of test stories: (1000, 68)\n",
      "shape of test ques: (1000, 4)\n",
      "shape of test answers: (1000, 21)\n"
     ]
    }
   ],
   "source": [
    "print(\"shape of train stories:\",np.array(train_sent).shape)\n",
    "print(\"shape of train ques:\",np.array(train_ques).shape)\n",
    "print(\"shape of train answers:\",np.array(train_ans).shape)\n",
    "print()\n",
    "print(\"shape of test stories:\",np.array(test_sent).shape)\n",
    "print(\"shape of test ques:\",np.array(test_ques).shape)\n",
    "print(\"shape of test answers:\",np.array(test_ans).shape)"
   ]
  },
  {
   "cell_type": "code",
   "execution_count": 166,
   "metadata": {
    "collapsed": true
   },
   "outputs": [],
   "source": [
    "class TrainingVisualizer(keras.callbacks.History):\n",
    "    def on_epoch_end(self, epoch, logs={}):\n",
    "        super().on_epoch_end(epoch, logs)\n",
    "        IPython.display.clear_output(wait=True)\n",
    "        pd.DataFrame({key: value for key, value in self.history.items() if key.endswith('loss')}).plot()\n",
    "        axes = pd.DataFrame({key: value for key, value in self.history.items() if key.endswith('acc')}).plot()\n",
    "        axes.set_ylim([0, 1])\n",
    "        plt.show()"
   ]
  },
  {
   "cell_type": "code",
   "execution_count": 167,
   "metadata": {},
   "outputs": [],
   "source": [
    "input_sentence = Input((story_maxlen,))\n",
    "input_ques = Input((ques_maxlen,))\n",
    "\n",
    "encoder_sent = Embedding(input_dim = vocab_size,output_dim = 64, input_length = story_maxlen)\n",
    "encoder_ques = Embedding(input_dim = vocab_size,output_dim = 64, input_length = ques_maxlen)\n",
    "\n",
    "encoded_sent = encoder_sent(input_sentence)\n",
    "encoded_ques = encoder_ques(input_ques)\n",
    "\n",
    "dot_layer = dot([encoded_sent, encoded_ques], axes = (2,2))\n",
    "concat_layer = concatenate([encoded_sent, dot_layer])\n",
    "\n",
    "answer = LSTM(lstm_units)(concat_layer)\n",
    "answer = Dropout(0.3)(answer)\n",
    "answer = Dense(vocab_size)(answer)\n",
    "answer = Activation(\"softmax\")(answer)"
   ]
  },
  {
   "cell_type": "code",
   "execution_count": 168,
   "metadata": {
    "collapsed": true
   },
   "outputs": [],
   "source": [
    "model = Model([input_sentence, input_ques], answer)\n",
    "model.compile(optimizer='adam', loss='categorical_crossentropy',\n",
    "              metrics=['accuracy'])"
   ]
  },
  {
   "cell_type": "code",
   "execution_count": 169,
   "metadata": {},
   "outputs": [
    {
     "name": "stdout",
     "output_type": "stream",
     "text": [
      "__________________________________________________________________________________________________\n",
      "Layer (type)                    Output Shape         Param #     Connected to                     \n",
      "==================================================================================================\n",
      "input_9 (InputLayer)            (None, 68)           0                                            \n",
      "__________________________________________________________________________________________________\n",
      "input_10 (InputLayer)           (None, 4)            0                                            \n",
      "__________________________________________________________________________________________________\n",
      "embedding_9 (Embedding)         (None, 68, 64)       1344        input_9[0][0]                    \n",
      "__________________________________________________________________________________________________\n",
      "embedding_10 (Embedding)        (None, 4, 64)        1344        input_10[0][0]                   \n",
      "__________________________________________________________________________________________________\n",
      "dot_5 (Dot)                     (None, 68, 4)        0           embedding_9[0][0]                \n",
      "                                                                 embedding_10[0][0]               \n",
      "__________________________________________________________________________________________________\n",
      "concatenate_5 (Concatenate)     (None, 68, 68)       0           embedding_9[0][0]                \n",
      "                                                                 dot_5[0][0]                      \n",
      "__________________________________________________________________________________________________\n",
      "lstm_5 (LSTM)                   (None, 64)           34048       concatenate_5[0][0]              \n",
      "__________________________________________________________________________________________________\n",
      "dropout_3 (Dropout)             (None, 64)           0           lstm_5[0][0]                     \n",
      "__________________________________________________________________________________________________\n",
      "dense_4 (Dense)                 (None, 21)           1365        dropout_3[0][0]                  \n",
      "__________________________________________________________________________________________________\n",
      "activation_4 (Activation)       (None, 21)           0           dense_4[0][0]                    \n",
      "==================================================================================================\n",
      "Total params: 38,101\n",
      "Trainable params: 38,101\n",
      "Non-trainable params: 0\n",
      "__________________________________________________________________________________________________\n"
     ]
    }
   ],
   "source": [
    "model.summary()"
   ]
  },
  {
   "cell_type": "code",
   "execution_count": 170,
   "metadata": {},
   "outputs": [
    {
     "data": {
      "image/png": "[encoded data removed]",
      "text/plain": [
       "<matplotlib.figure.Figure at 0x7f5dff67df98>"
      ]
     },
     "metadata": {},
     "output_type": "display_data"
    },
    {
     "data": {
      "image/png": "[encoded data removed]",
      "text/plain": [
       "<matplotlib.figure.Figure at 0x7f5dff67dc88>"
      ]
     },
     "metadata": {},
     "output_type": "display_data"
    },
    {
     "name": "stdout",
     "output_type": "stream",
     "text": [
      "\b\b\b\b\b\b\b\b\b\b\b\b\b\b\b\b\b\b\b\b\b\b\b\b\b\b\b\b\b\b\b\b\b\b\b\b\b\b\b\b\b\b\b\b\b\b\b\b\b\b\b\b\b\b\b\b\b\b\b\b\b\b\b\b\b\b\b\b\b\b\b\b\b\b\b\b\b\b\b\b\b\b\b\r",
      "10000/10000 [==============================] - 26s 3ms/step - loss: 0.0898 - acc: 0.9546 - val_loss: 0.2135 - val_acc: 0.9120\n"
     ]
    },
    {
     "data": {
      "text/plain": [
       "<keras.callbacks.History at 0x7f5e052c6b70>"
      ]
     },
     "execution_count": 170,
     "metadata": {},
     "output_type": "execute_result"
    }
   ],
   "source": [
    "model.fit([train_sent, train_ques], train_ans, batch_size, train_epochs,callbacks=[TrainingVisualizer()],\n",
    "          validation_data=([test_sent, test_ques], test_ans))"
   ]
  },
  {
   "cell_type": "code",
   "execution_count": 172,
   "metadata": {
    "collapsed": true
   },
   "outputs": [],
   "source": [
    "model.save(\"model.h5\")"
   ]
  },
  {
   "cell_type": "code",
   "execution_count": 182,
   "metadata": {},
   "outputs": [
    {
     "name": "stdout",
     "output_type": "stream",
     "text": [
      "Story: John travelled to the hallway . Mary journeyed to the bathroom . Daniel went back to the bathroom . John moved to the bedroom .\n",
      "Question:  Where is John ? Answer:  hallway\n",
      "predicted:  hallway\n",
      "\n",
      "Story: John travelled to the hallway . Mary journeyed to the bathroom . Daniel went back to the bathroom . John moved to the bedroom . John went to the hallway . Sandra journeyed to the kitchen .\n",
      "Question:  Where is Mary ? Answer:  bathroom\n",
      "predicted:  bathroom\n",
      "\n",
      "Story: John travelled to the hallway . Mary journeyed to the bathroom . Daniel went back to the bathroom . John moved to the bedroom . John went to the hallway . Sandra journeyed to the kitchen . Sandra travelled to the hallway . John went to the garden .\n",
      "Question:  Where is Sandra ? Answer:  kitchen\n",
      "predicted:  kitchen\n",
      "\n",
      "Story: John travelled to the hallway . Mary journeyed to the bathroom . Daniel went back to the bathroom . John moved to the bedroom . John went to the hallway . Sandra journeyed to the kitchen . Sandra travelled to the hallway . John went to the garden . Sandra went back to the bathroom . Sandra moved to the kitchen .\n",
      "Question:  Where is Sandra ? Answer:  hallway\n",
      "predicted:  kitchen\n",
      "\n",
      "Story: John travelled to the hallway . Mary journeyed to the bathroom . Daniel went back to the bathroom . John moved to the bedroom . John went to the hallway . Sandra journeyed to the kitchen . Sandra travelled to the hallway . John went to the garden . Sandra went back to the bathroom . Sandra moved to the kitchen .\n",
      "Question:  Where is Sandra ? Answer:  kitchen\n",
      "predicted:  kitchen\n",
      "\n",
      "Story: Sandra travelled to the kitchen . Sandra travelled to the hallway . Mary went to the bathroom . Sandra moved to the garden .\n",
      "Question:  Where is Sandra ? Answer:  hallway\n",
      "predicted:  hallway\n",
      "\n",
      "Story: Sandra travelled to the kitchen . Sandra travelled to the hallway . Mary went to the bathroom . Sandra moved to the garden . Sandra travelled to the office . Daniel journeyed to the hallway .\n",
      "Question:  Where is Sandra ? Answer:  garden\n",
      "predicted:  garden\n",
      "\n",
      "Story: Sandra travelled to the kitchen . Sandra travelled to the hallway . Mary went to the bathroom . Sandra moved to the garden . Sandra travelled to the office . Daniel journeyed to the hallway . Daniel journeyed to the office . John moved to the hallway .\n",
      "Question:  Where is Daniel ? Answer:  hallway\n",
      "predicted:  hallway\n",
      "\n",
      "Story: Sandra travelled to the kitchen . Sandra travelled to the hallway . Mary went to the bathroom . Sandra moved to the garden . Sandra travelled to the office . Daniel journeyed to the hallway . Daniel journeyed to the office . John moved to the hallway . John travelled to the bathroom . John journeyed to the office .\n",
      "Question:  Where is Sandra ? Answer:  office\n",
      "predicted:  office\n",
      "\n",
      "Story: Sandra travelled to the kitchen . Sandra travelled to the hallway . Mary went to the bathroom . Sandra moved to the garden . Sandra travelled to the office . Daniel journeyed to the hallway . Daniel journeyed to the office . John moved to the hallway . John travelled to the bathroom . John journeyed to the office .\n",
      "Question:  Where is Daniel ? Answer:  office\n",
      "predicted:  office\n",
      "\n",
      "Story: John travelled to the office . Mary journeyed to the kitchen . Mary moved to the garden . Daniel went to the office .\n",
      "Question:  Where is Mary ? Answer:  kitchen\n",
      "predicted:  kitchen\n",
      "\n",
      "Story: John travelled to the office . Mary journeyed to the kitchen . Mary moved to the garden . Daniel went to the office . John went to the hallway . Mary moved to the kitchen .\n",
      "Question:  Where is Mary ? Answer:  garden\n",
      "predicted:  garden\n",
      "\n",
      "Story: John travelled to the office . Mary journeyed to the kitchen . Mary moved to the garden . Daniel went to the office . John went to the hallway . Mary moved to the kitchen . Mary travelled to the bedroom . Daniel journeyed to the garden .\n",
      "Question:  Where is Daniel ? Answer:  office\n",
      "predicted:  office\n",
      "\n",
      "Story: John travelled to the office . Mary journeyed to the kitchen . Mary moved to the garden . Daniel went to the office . John went to the hallway . Mary moved to the kitchen . Mary travelled to the bedroom . Daniel journeyed to the garden . John journeyed to the garden . Sandra journeyed to the bedroom .\n",
      "Question:  Where is Mary ? Answer:  bedroom\n",
      "predicted:  bedroom\n",
      "\n",
      "Story: John travelled to the office . Mary journeyed to the kitchen . Mary moved to the garden . Daniel went to the office . John went to the hallway . Mary moved to the kitchen . Mary travelled to the bedroom . Daniel journeyed to the garden . John journeyed to the garden . Sandra journeyed to the bedroom .\n",
      "Question:  Where is Mary ? Answer:  bedroom\n",
      "predicted:  bedroom\n",
      "\n",
      "Story: John moved to the hallway . John journeyed to the kitchen . Sandra travelled to the garden . John journeyed to the garden .\n",
      "Question:  Where is John ? Answer:  kitchen\n",
      "predicted:  kitchen\n",
      "\n",
      "Story: John moved to the hallway . John journeyed to the kitchen . Sandra travelled to the garden . John journeyed to the garden . Daniel journeyed to the office . John went to the kitchen .\n",
      "Question:  Where is John ? Answer:  garden\n",
      "predicted:  garden\n",
      "\n",
      "Story: John moved to the hallway . John journeyed to the kitchen . Sandra travelled to the garden . John journeyed to the garden . Daniel journeyed to the office . John went to the kitchen . Sandra journeyed to the hallway . Mary went to the hallway .\n",
      "Question:  Where is John ? Answer:  kitchen\n",
      "predicted:  kitchen\n",
      "\n",
      "Story: John moved to the hallway . John journeyed to the kitchen . Sandra travelled to the garden . John journeyed to the garden . Daniel journeyed to the office . John went to the kitchen . Sandra journeyed to the hallway . Mary went to the hallway . Mary went to the kitchen . Sandra travelled to the garden .\n",
      "Question:  Where is Daniel ? Answer:  office\n",
      "predicted:  office\n",
      "\n",
      "Story: John moved to the hallway . John journeyed to the kitchen . Sandra travelled to the garden . John journeyed to the garden . Daniel journeyed to the office . John went to the kitchen . Sandra journeyed to the hallway . Mary went to the hallway . Mary went to the kitchen . Sandra travelled to the garden .\n",
      "Question:  Where is John ? Answer:  kitchen\n",
      "predicted:  kitchen\n",
      "\n"
     ]
    }
   ],
   "source": [
    "for i in range(20):\n",
    "    pred_vec = model.predict([np.array([test_sent[i]]), np.array([test_ques[i]])])\n",
    "    print(\"Story:\",\" \".join(test[i][0]))\n",
    "    print(\"Question: \",\" \".join(test[i][1]),\"Answer: \", test[i][2])\n",
    "    print(\"predicted: \",idx_word[np.argmax(pred_vec)])\n",
    "    print()"
   ]
  },
  {
   "cell_type": "code",
   "execution_count": 183,
   "metadata": {
    "collapsed": true
   },
   "outputs": [],
   "source": [
    "from keras.models import load_model\n",
    "test_model = load_model('model.h5')"
   ]
  },
  {
   "cell_type": "code",
   "execution_count": 187,
   "metadata": {},
   "outputs": [
    {
     "name": "stdout",
     "output_type": "stream",
     "text": [
      "Custom input:\n",
      "Story (provide spaces even before punctuation marks): John moved to the hallway . John journeyed to the kitchen . Sandra travelled to the garden . John journeyed to the garden . Daniel journeyed to the office . John went to the kitchen . Sandra journeyed to the hallway . Mary went to the hallway . Mary went to the kitchen . Sandra travelled to the garden .\n",
      "Question (provide spaces even before punctuation marks): Where is John ?\n",
      "predicted:  kitchen\n"
     ]
    },
    {
     "ename": "KeyboardInterrupt",
     "evalue": "",
     "output_type": "error",
     "traceback": [
      "\u001b[0;31m---------------------------------------------------------------------------\u001b[0m",
      "\u001b[0;31mKeyboardInterrupt\u001b[0m                         Traceback (most recent call last)",
      "\u001b[0;32m/usr/local/lib/python3.5/dist-packages/ipykernel/kernelbase.py\u001b[0m in \u001b[0;36m_input_request\u001b[0;34m(self, prompt, ident, parent, password)\u001b[0m\n\u001b[1;32m    729\u001b[0m             \u001b[0;32mtry\u001b[0m\u001b[0;34m:\u001b[0m\u001b[0;34m\u001b[0m\u001b[0m\n\u001b[0;32m--> 730\u001b[0;31m                 \u001b[0mident\u001b[0m\u001b[0;34m,\u001b[0m \u001b[0mreply\u001b[0m \u001b[0;34m=\u001b[0m \u001b[0mself\u001b[0m\u001b[0;34m.\u001b[0m\u001b[0msession\u001b[0m\u001b[0;34m.\u001b[0m\u001b[0mrecv\u001b[0m\u001b[0;34m(\u001b[0m\u001b[0mself\u001b[0m\u001b[0;34m.\u001b[0m\u001b[0mstdin_socket\u001b[0m\u001b[0;34m,\u001b[0m \u001b[0;36m0\u001b[0m\u001b[0;34m)\u001b[0m\u001b[0;34m\u001b[0m\u001b[0m\n\u001b[0m\u001b[1;32m    731\u001b[0m             \u001b[0;32mexcept\u001b[0m \u001b[0mException\u001b[0m\u001b[0;34m:\u001b[0m\u001b[0;34m\u001b[0m\u001b[0m\n",
      "\u001b[0;32m/usr/local/lib/python3.5/dist-packages/jupyter_client/session.py\u001b[0m in \u001b[0;36mrecv\u001b[0;34m(self, socket, mode, content, copy)\u001b[0m\n\u001b[1;32m    795\u001b[0m         \u001b[0;32mtry\u001b[0m\u001b[0;34m:\u001b[0m\u001b[0;34m\u001b[0m\u001b[0m\n\u001b[0;32m--> 796\u001b[0;31m             \u001b[0mmsg_list\u001b[0m \u001b[0;34m=\u001b[0m \u001b[0msocket\u001b[0m\u001b[0;34m.\u001b[0m\u001b[0mrecv_multipart\u001b[0m\u001b[0;34m(\u001b[0m\u001b[0mmode\u001b[0m\u001b[0;34m,\u001b[0m \u001b[0mcopy\u001b[0m\u001b[0;34m=\u001b[0m\u001b[0mcopy\u001b[0m\u001b[0;34m)\u001b[0m\u001b[0;34m\u001b[0m\u001b[0m\n\u001b[0m\u001b[1;32m    797\u001b[0m         \u001b[0;32mexcept\u001b[0m \u001b[0mzmq\u001b[0m\u001b[0;34m.\u001b[0m\u001b[0mZMQError\u001b[0m \u001b[0;32mas\u001b[0m \u001b[0me\u001b[0m\u001b[0;34m:\u001b[0m\u001b[0;34m\u001b[0m\u001b[0m\n",
      "\u001b[0;32m/usr/local/lib/python3.5/dist-packages/zmq/sugar/socket.py\u001b[0m in \u001b[0;36mrecv_multipart\u001b[0;34m(self, flags, copy, track)\u001b[0m\n\u001b[1;32m    394\u001b[0m         \"\"\"\n\u001b[0;32m--> 395\u001b[0;31m         \u001b[0mparts\u001b[0m \u001b[0;34m=\u001b[0m \u001b[0;34m[\u001b[0m\u001b[0mself\u001b[0m\u001b[0;34m.\u001b[0m\u001b[0mrecv\u001b[0m\u001b[0;34m(\u001b[0m\u001b[0mflags\u001b[0m\u001b[0;34m,\u001b[0m \u001b[0mcopy\u001b[0m\u001b[0;34m=\u001b[0m\u001b[0mcopy\u001b[0m\u001b[0;34m,\u001b[0m \u001b[0mtrack\u001b[0m\u001b[0;34m=\u001b[0m\u001b[0mtrack\u001b[0m\u001b[0;34m)\u001b[0m\u001b[0;34m]\u001b[0m\u001b[0;34m\u001b[0m\u001b[0m\n\u001b[0m\u001b[1;32m    396\u001b[0m         \u001b[0;31m# have first part already, only loop while more to receive\u001b[0m\u001b[0;34m\u001b[0m\u001b[0;34m\u001b[0m\u001b[0m\n",
      "\u001b[0;32mzmq/backend/cython/socket.pyx\u001b[0m in \u001b[0;36mzmq.backend.cython.socket.Socket.recv (zmq/backend/cython/socket.c:7683)\u001b[0;34m()\u001b[0m\n",
      "\u001b[0;32mzmq/backend/cython/socket.pyx\u001b[0m in \u001b[0;36mzmq.backend.cython.socket.Socket.recv (zmq/backend/cython/socket.c:7460)\u001b[0;34m()\u001b[0m\n",
      "\u001b[0;32mzmq/backend/cython/socket.pyx\u001b[0m in \u001b[0;36mzmq.backend.cython.socket._recv_copy (zmq/backend/cython/socket.c:2344)\u001b[0;34m()\u001b[0m\n",
      "\u001b[0;32m/usr/local/lib/python3.5/dist-packages/zmq/backend/cython/checkrc.pxd\u001b[0m in \u001b[0;36mzmq.backend.cython.checkrc._check_rc (zmq/backend/cython/socket.c:9621)\u001b[0;34m()\u001b[0m\n",
      "\u001b[0;31mKeyboardInterrupt\u001b[0m: ",
      "\nDuring handling of the above exception, another exception occurred:\n",
      "\u001b[0;31mKeyboardInterrupt\u001b[0m                         Traceback (most recent call last)",
      "\u001b[0;32m<ipython-input-187-265be5f7fd7b>\u001b[0m in \u001b[0;36m<module>\u001b[0;34m()\u001b[0m\n\u001b[1;32m      1\u001b[0m \u001b[0mprint\u001b[0m\u001b[0;34m(\u001b[0m\u001b[0;34m\"Custom input:\"\u001b[0m\u001b[0;34m)\u001b[0m\u001b[0;34m\u001b[0m\u001b[0m\n\u001b[1;32m      2\u001b[0m \u001b[0;32mwhile\u001b[0m \u001b[0;36m1\u001b[0m\u001b[0;34m:\u001b[0m\u001b[0;34m\u001b[0m\u001b[0m\n\u001b[0;32m----> 3\u001b[0;31m     \u001b[0minp_story\u001b[0m \u001b[0;34m=\u001b[0m \u001b[0minput\u001b[0m\u001b[0;34m(\u001b[0m\u001b[0;34m\"Story (provide spaces even before punctuation marks): \"\u001b[0m\u001b[0;34m)\u001b[0m\u001b[0;34m.\u001b[0m\u001b[0msplit\u001b[0m\u001b[0;34m(\u001b[0m\u001b[0;34m' '\u001b[0m\u001b[0;34m)\u001b[0m\u001b[0;34m\u001b[0m\u001b[0m\n\u001b[0m\u001b[1;32m      4\u001b[0m     \u001b[0minp_ques\u001b[0m \u001b[0;34m=\u001b[0m \u001b[0minput\u001b[0m\u001b[0;34m(\u001b[0m\u001b[0;34m\"Question (provide spaces even before punctuation marks): \"\u001b[0m\u001b[0;34m)\u001b[0m\u001b[0;34m.\u001b[0m\u001b[0msplit\u001b[0m\u001b[0;34m(\u001b[0m\u001b[0;34m' '\u001b[0m\u001b[0;34m)\u001b[0m\u001b[0;34m\u001b[0m\u001b[0m\n\u001b[1;32m      5\u001b[0m     \u001b[0menc_story\u001b[0m\u001b[0;34m,\u001b[0m \u001b[0menc_ques\u001b[0m\u001b[0;34m,\u001b[0m \u001b[0m_\u001b[0m \u001b[0;34m=\u001b[0m \u001b[0mvectorize\u001b[0m\u001b[0;34m(\u001b[0m\u001b[0;34m[\u001b[0m\u001b[0;34m[\u001b[0m\u001b[0minp_story\u001b[0m\u001b[0;34m,\u001b[0m \u001b[0minp_ques\u001b[0m\u001b[0;34m,\u001b[0m \u001b[0;34m\".\"\u001b[0m\u001b[0;34m]\u001b[0m\u001b[0;34m]\u001b[0m\u001b[0;34m,\u001b[0m \u001b[0mword_idx\u001b[0m\u001b[0;34m,\u001b[0m \u001b[0mstory_maxlen\u001b[0m\u001b[0;34m,\u001b[0m \u001b[0mques_maxlen\u001b[0m\u001b[0;34m)\u001b[0m\u001b[0;34m\u001b[0m\u001b[0m\n",
      "\u001b[0;32m/usr/local/lib/python3.5/dist-packages/ipykernel/kernelbase.py\u001b[0m in \u001b[0;36mraw_input\u001b[0;34m(self, prompt)\u001b[0m\n\u001b[1;32m    703\u001b[0m             \u001b[0mself\u001b[0m\u001b[0;34m.\u001b[0m\u001b[0m_parent_ident\u001b[0m\u001b[0;34m,\u001b[0m\u001b[0;34m\u001b[0m\u001b[0m\n\u001b[1;32m    704\u001b[0m             \u001b[0mself\u001b[0m\u001b[0;34m.\u001b[0m\u001b[0m_parent_header\u001b[0m\u001b[0;34m,\u001b[0m\u001b[0;34m\u001b[0m\u001b[0m\n\u001b[0;32m--> 705\u001b[0;31m             \u001b[0mpassword\u001b[0m\u001b[0;34m=\u001b[0m\u001b[0;32mFalse\u001b[0m\u001b[0;34m,\u001b[0m\u001b[0;34m\u001b[0m\u001b[0m\n\u001b[0m\u001b[1;32m    706\u001b[0m         )\n\u001b[1;32m    707\u001b[0m \u001b[0;34m\u001b[0m\u001b[0m\n",
      "\u001b[0;32m/usr/local/lib/python3.5/dist-packages/ipykernel/kernelbase.py\u001b[0m in \u001b[0;36m_input_request\u001b[0;34m(self, prompt, ident, parent, password)\u001b[0m\n\u001b[1;32m    733\u001b[0m             \u001b[0;32mexcept\u001b[0m \u001b[0mKeyboardInterrupt\u001b[0m\u001b[0;34m:\u001b[0m\u001b[0;34m\u001b[0m\u001b[0m\n\u001b[1;32m    734\u001b[0m                 \u001b[0;31m# re-raise KeyboardInterrupt, to truncate traceback\u001b[0m\u001b[0;34m\u001b[0m\u001b[0;34m\u001b[0m\u001b[0m\n\u001b[0;32m--> 735\u001b[0;31m                 \u001b[0;32mraise\u001b[0m \u001b[0mKeyboardInterrupt\u001b[0m\u001b[0;34m\u001b[0m\u001b[0m\n\u001b[0m\u001b[1;32m    736\u001b[0m             \u001b[0;32melse\u001b[0m\u001b[0;34m:\u001b[0m\u001b[0;34m\u001b[0m\u001b[0m\n\u001b[1;32m    737\u001b[0m                 \u001b[0;32mbreak\u001b[0m\u001b[0;34m\u001b[0m\u001b[0m\n",
      "\u001b[0;31mKeyboardInterrupt\u001b[0m: "
     ]
    }
   ],
   "source": [
    "print(\"Custom input:\")\n",
    "while 1:\n",
    "    inp_story = input(\"Story (provide spaces even before punctuation marks): \").split(' ')\n",
    "    inp_ques = input(\"Question (provide spaces even before punctuation marks): \").split(' ')\n",
    "    enc_story, enc_ques, _ = vectorize([[inp_story, inp_ques, \".\"]], word_idx, story_maxlen, ques_maxlen)\n",
    "    pred = test_model.predict([enc_story, enc_ques])\n",
    "    print(\"predicted: \",idx_word[np.argmax(pred)])"
   ]
  },
  {
   "cell_type": "code",
   "execution_count": null,
   "metadata": {
    "collapsed": true
   },
   "outputs": [],
   "source": []
  }
 ],
 "metadata": {
  "kernelspec": {
   "display_name": "Python 3",
   "language": "python",
   "name": "python3"
  },
  "language_info": {
   "codemirror_mode": {
    "name": "ipython",
    "version": 3
   },
   "file_extension": ".py",
   "mimetype": "text/x-python",
   "name": "python",
   "nbconvert_exporter": "python",
   "pygments_lexer": "ipython3",
   "version": "3.5.2"
  }
 },
 "nbformat": 4,
 "nbformat_minor": 2
}
